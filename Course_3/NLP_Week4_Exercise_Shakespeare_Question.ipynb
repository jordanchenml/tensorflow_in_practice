{
  "nbformat": 4,
  "nbformat_minor": 0,
  "metadata": {
    "colab": {
      "name": "NLP-Week4-Exercise-Shakespeare-Question.ipynb",
      "provenance": []
    },
    "kernelspec": {
      "name": "python3",
      "display_name": "Python 3"
    },
    "accelerator": "GPU"
  },
  "cells": [
    {
      "cell_type": "code",
      "metadata": {
        "id": "BOwsuGQQY9OL",
        "colab_type": "code",
        "colab": {
          "base_uri": "https://localhost:8080/",
          "height": 62
        },
        "outputId": "807d3ba0-56a8-497d-fba1-b626ba773bb7"
      },
      "source": [
        "from tensorflow.keras.preprocessing.sequence import pad_sequences\n",
        "from tensorflow.keras.layers import Embedding, LSTM, Dense, Dropout, Bidirectional\n",
        "from tensorflow.keras.preprocessing.text import Tokenizer\n",
        "from tensorflow.keras.models import Sequential\n",
        "from tensorflow.keras.optimizers import Adam\n",
        "### YOUR CODE HERE\n",
        "# Figure out how to import regularizers\n",
        "from tensorflow.keras import regularizers\n",
        "###\n",
        "import tensorflow.keras.utils as ku \n",
        "import numpy as np "
      ],
      "execution_count": 1,
      "outputs": [
        {
          "output_type": "display_data",
          "data": {
            "text/html": [
              "<p style=\"color: red;\">\n",
              "The default version of TensorFlow in Colab will soon switch to TensorFlow 2.x.<br>\n",
              "We recommend you <a href=\"https://www.tensorflow.org/guide/migrate\" target=\"_blank\">upgrade</a> now \n",
              "or ensure your notebook will continue to use TensorFlow 1.x via the <code>%tensorflow_version 1.x</code> magic:\n",
              "<a href=\"https://colab.research.google.com/notebooks/tensorflow_version.ipynb\" target=\"_blank\">more info</a>.</p>\n"
            ],
            "text/plain": [
              "<IPython.core.display.HTML object>"
            ]
          },
          "metadata": {
            "tags": []
          }
        }
      ]
    },
    {
      "cell_type": "code",
      "metadata": {
        "colab_type": "code",
        "id": "PRnDnCW-Z7qv",
        "colab": {
          "base_uri": "https://localhost:8080/",
          "height": 200
        },
        "outputId": "60d6e6a9-36f7-4bf4-8792-9304cf137e29"
      },
      "source": [
        "tokenizer = Tokenizer()\n",
        "!wget --no-check-certificate \\\n",
        "    https://storage.googleapis.com/laurencemoroney-blog.appspot.com/sonnets.txt \\\n",
        "    -O /tmp/sonnets.txt\n",
        "data = open('/tmp/sonnets.txt').read()\n",
        "\n",
        "corpus = data.lower().split(\"\\n\")\n",
        "\n",
        "\n",
        "tokenizer.fit_on_texts(corpus)\n",
        "total_words = len(tokenizer.word_index) + 1\n",
        "\n",
        "# create input sequences using list of tokens\n",
        "input_sequences = []\n",
        "for line in corpus:\n",
        "\ttoken_list = tokenizer.texts_to_sequences([line])[0]\n",
        "\tfor i in range(1, len(token_list)):\n",
        "\t\tn_gram_sequence = token_list[:i+1]\n",
        "\t\tinput_sequences.append(n_gram_sequence)\n",
        "\n",
        "\n",
        "# pad sequences \n",
        "max_sequence_len = max([len(x) for x in input_sequences])\n",
        "input_sequences = np.array(pad_sequences(input_sequences, maxlen=max_sequence_len, padding='pre'))\n",
        "\n",
        "# create predictors and label\n",
        "predictors, label = input_sequences[:,:-1],input_sequences[:,-1]\n",
        "\n",
        "label = ku.to_categorical(label, num_classes=total_words)"
      ],
      "execution_count": 2,
      "outputs": [
        {
          "output_type": "stream",
          "text": [
            "--2019-10-29 06:57:27--  https://storage.googleapis.com/laurencemoroney-blog.appspot.com/sonnets.txt\n",
            "Resolving storage.googleapis.com (storage.googleapis.com)... 108.177.111.128, 2607:f8b0:4001:c05::80\n",
            "Connecting to storage.googleapis.com (storage.googleapis.com)|108.177.111.128|:443... connected.\n",
            "HTTP request sent, awaiting response... 200 OK\n",
            "Length: 93578 (91K) [text/plain]\n",
            "Saving to: ‘/tmp/sonnets.txt’\n",
            "\n",
            "/tmp/sonnets.txt    100%[===================>]  91.38K  --.-KB/s    in 0.001s  \n",
            "\n",
            "2019-10-29 06:57:32 (115 MB/s) - ‘/tmp/sonnets.txt’ saved [93578/93578]\n",
            "\n"
          ],
          "name": "stdout"
        }
      ]
    },
    {
      "cell_type": "code",
      "metadata": {
        "id": "w9vH8Y59ajYL",
        "colab_type": "code",
        "colab": {
          "base_uri": "https://localhost:8080/",
          "height": 633
        },
        "outputId": "50428ed7-d7d5-4856-df2c-9279fe4e44cb"
      },
      "source": [
        "model = Sequential()\n",
        "model.add(Embedding(total_words, 100, input_length=max_sequence_len-1))\n",
        "model.add(Bidirectional(LSTM(150, return_sequences=True)))\n",
        "model.add(Dropout(0.2))\n",
        "model.add(LSTM(100))\n",
        "model.add(Dense(total_words/2, activation='relu', kernel_regularizer=regularizers.l2(0.01)))\n",
        "model.add(Dense(total_words, activation='softmax'))\n",
        "# Pick an optimizer\n",
        "model.compile(loss='categorical_crossentropy', optimizer='adam', metrics=['accuracy'])\n",
        "print(model.summary())\n"
      ],
      "execution_count": 4,
      "outputs": [
        {
          "output_type": "stream",
          "text": [
            "WARNING:tensorflow:From /usr/local/lib/python3.6/dist-packages/tensorflow_core/python/keras/initializers.py:119: calling RandomUniform.__init__ (from tensorflow.python.ops.init_ops) with dtype is deprecated and will be removed in a future version.\n",
            "Instructions for updating:\n",
            "Call initializer instance with the dtype argument instead of passing it to the constructor\n",
            "WARNING:tensorflow:From /usr/local/lib/python3.6/dist-packages/tensorflow_core/python/ops/resource_variable_ops.py:1630: calling BaseResourceVariable.__init__ (from tensorflow.python.ops.resource_variable_ops) with constraint is deprecated and will be removed in a future version.\n",
            "Instructions for updating:\n",
            "If using Keras pass *_constraint arguments to layers.\n",
            "WARNING:tensorflow:From /usr/local/lib/python3.6/dist-packages/tensorflow_core/python/ops/init_ops.py:97: calling GlorotUniform.__init__ (from tensorflow.python.ops.init_ops) with dtype is deprecated and will be removed in a future version.\n",
            "Instructions for updating:\n",
            "Call initializer instance with the dtype argument instead of passing it to the constructor\n",
            "WARNING:tensorflow:From /usr/local/lib/python3.6/dist-packages/tensorflow_core/python/ops/init_ops.py:97: calling Orthogonal.__init__ (from tensorflow.python.ops.init_ops) with dtype is deprecated and will be removed in a future version.\n",
            "Instructions for updating:\n",
            "Call initializer instance with the dtype argument instead of passing it to the constructor\n",
            "WARNING:tensorflow:From /usr/local/lib/python3.6/dist-packages/tensorflow_core/python/ops/init_ops.py:97: calling Zeros.__init__ (from tensorflow.python.ops.init_ops) with dtype is deprecated and will be removed in a future version.\n",
            "Instructions for updating:\n",
            "Call initializer instance with the dtype argument instead of passing it to the constructor\n",
            "Model: \"sequential\"\n",
            "_________________________________________________________________\n",
            "Layer (type)                 Output Shape              Param #   \n",
            "=================================================================\n",
            "embedding (Embedding)        (None, 10, 100)           321100    \n",
            "_________________________________________________________________\n",
            "bidirectional (Bidirectional (None, 10, 300)           301200    \n",
            "_________________________________________________________________\n",
            "dropout (Dropout)            (None, 10, 300)           0         \n",
            "_________________________________________________________________\n",
            "lstm_1 (LSTM)                (None, 100)               160400    \n",
            "_________________________________________________________________\n",
            "dense (Dense)                (None, 1605)              162105    \n",
            "_________________________________________________________________\n",
            "dense_1 (Dense)              (None, 3211)              5156866   \n",
            "=================================================================\n",
            "Total params: 6,101,671\n",
            "Trainable params: 6,101,671\n",
            "Non-trainable params: 0\n",
            "_________________________________________________________________\n",
            "None\n"
          ],
          "name": "stdout"
        }
      ]
    },
    {
      "cell_type": "code",
      "metadata": {
        "id": "AIg2f1HBxqof",
        "colab_type": "code",
        "colab": {
          "base_uri": "https://localhost:8080/",
          "height": 1000
        },
        "outputId": "394e80cb-d9e4-48b5-abbe-ed5569a3bd7b"
      },
      "source": [
        " history = model.fit(predictors, label, epochs=100, verbose=1)"
      ],
      "execution_count": 5,
      "outputs": [
        {
          "output_type": "stream",
          "text": [
            "WARNING:tensorflow:From /usr/local/lib/python3.6/dist-packages/tensorflow_core/python/ops/math_grad.py:1424: where (from tensorflow.python.ops.array_ops) is deprecated and will be removed in a future version.\n",
            "Instructions for updating:\n",
            "Use tf.where in 2.0, which has the same broadcast rule as np.where\n",
            "Train on 15462 samples\n",
            "Epoch 1/100\n",
            "15462/15462 [==============================] - 36s 2ms/sample - loss: 6.9078 - acc: 0.0214\n",
            "Epoch 2/100\n",
            "15462/15462 [==============================] - 34s 2ms/sample - loss: 6.5014 - acc: 0.0215\n",
            "Epoch 3/100\n",
            "15462/15462 [==============================] - 33s 2ms/sample - loss: 6.3935 - acc: 0.0252\n",
            "Epoch 4/100\n",
            "15462/15462 [==============================] - 33s 2ms/sample - loss: 6.2745 - acc: 0.0291\n",
            "Epoch 5/100\n",
            "15462/15462 [==============================] - 32s 2ms/sample - loss: 6.1876 - acc: 0.0342\n",
            "Epoch 6/100\n",
            "15462/15462 [==============================] - 32s 2ms/sample - loss: 6.1064 - acc: 0.0385\n",
            "Epoch 7/100\n",
            "15462/15462 [==============================] - 32s 2ms/sample - loss: 6.0266 - acc: 0.0396\n",
            "Epoch 8/100\n",
            "15462/15462 [==============================] - 32s 2ms/sample - loss: 5.9442 - acc: 0.0425\n",
            "Epoch 9/100\n",
            "15462/15462 [==============================] - 32s 2ms/sample - loss: 5.8588 - acc: 0.0454\n",
            "Epoch 10/100\n",
            "15462/15462 [==============================] - 32s 2ms/sample - loss: 5.7609 - acc: 0.0530\n",
            "Epoch 11/100\n",
            "15462/15462 [==============================] - 32s 2ms/sample - loss: 5.6443 - acc: 0.0619\n",
            "Epoch 12/100\n",
            "15462/15462 [==============================] - 32s 2ms/sample - loss: 5.5351 - acc: 0.0652\n",
            "Epoch 13/100\n",
            "15462/15462 [==============================] - 32s 2ms/sample - loss: 5.4292 - acc: 0.0726\n",
            "Epoch 14/100\n",
            "15462/15462 [==============================] - 31s 2ms/sample - loss: 5.3196 - acc: 0.0777\n",
            "Epoch 15/100\n",
            "15462/15462 [==============================] - 31s 2ms/sample - loss: 5.2116 - acc: 0.0876\n",
            "Epoch 16/100\n",
            "15462/15462 [==============================] - 31s 2ms/sample - loss: 5.1042 - acc: 0.0937\n",
            "Epoch 17/100\n",
            "15462/15462 [==============================] - 31s 2ms/sample - loss: 4.9970 - acc: 0.1059\n",
            "Epoch 18/100\n",
            "15462/15462 [==============================] - 31s 2ms/sample - loss: 4.8889 - acc: 0.1151\n",
            "Epoch 19/100\n",
            "15462/15462 [==============================] - 32s 2ms/sample - loss: 4.7776 - acc: 0.1266\n",
            "Epoch 20/100\n",
            "15462/15462 [==============================] - 31s 2ms/sample - loss: 4.6703 - acc: 0.1363\n",
            "Epoch 21/100\n",
            "15462/15462 [==============================] - 31s 2ms/sample - loss: 4.5617 - acc: 0.1461\n",
            "Epoch 22/100\n",
            "15462/15462 [==============================] - 32s 2ms/sample - loss: 4.4551 - acc: 0.1603\n",
            "Epoch 23/100\n",
            "15462/15462 [==============================] - 31s 2ms/sample - loss: 4.3458 - acc: 0.1719\n",
            "Epoch 24/100\n",
            "15462/15462 [==============================] - 32s 2ms/sample - loss: 4.2387 - acc: 0.1853\n",
            "Epoch 25/100\n",
            "15462/15462 [==============================] - 31s 2ms/sample - loss: 4.1336 - acc: 0.1954\n",
            "Epoch 26/100\n",
            "15462/15462 [==============================] - 31s 2ms/sample - loss: 4.0373 - acc: 0.2086\n",
            "Epoch 27/100\n",
            "15462/15462 [==============================] - 31s 2ms/sample - loss: 3.9304 - acc: 0.2238\n",
            "Epoch 28/100\n",
            "15462/15462 [==============================] - 31s 2ms/sample - loss: 3.8273 - acc: 0.2405\n",
            "Epoch 29/100\n",
            "15462/15462 [==============================] - 31s 2ms/sample - loss: 3.7346 - acc: 0.2551\n",
            "Epoch 30/100\n",
            "15462/15462 [==============================] - 31s 2ms/sample - loss: 3.6382 - acc: 0.2736\n",
            "Epoch 31/100\n",
            "15462/15462 [==============================] - 31s 2ms/sample - loss: 3.5394 - acc: 0.2921\n",
            "Epoch 32/100\n",
            "15462/15462 [==============================] - 31s 2ms/sample - loss: 3.4424 - acc: 0.3154\n",
            "Epoch 33/100\n",
            "15462/15462 [==============================] - 31s 2ms/sample - loss: 3.3619 - acc: 0.3317\n",
            "Epoch 34/100\n",
            "15462/15462 [==============================] - 31s 2ms/sample - loss: 3.2788 - acc: 0.3523\n",
            "Epoch 35/100\n",
            "15462/15462 [==============================] - 31s 2ms/sample - loss: 3.1811 - acc: 0.3736\n",
            "Epoch 36/100\n",
            "15462/15462 [==============================] - 31s 2ms/sample - loss: 3.1116 - acc: 0.3899\n",
            "Epoch 37/100\n",
            "15462/15462 [==============================] - 31s 2ms/sample - loss: 3.0290 - acc: 0.4095\n",
            "Epoch 38/100\n",
            "15462/15462 [==============================] - 32s 2ms/sample - loss: 2.9678 - acc: 0.4166\n",
            "Epoch 39/100\n",
            "15462/15462 [==============================] - 32s 2ms/sample - loss: 2.8941 - acc: 0.4380\n",
            "Epoch 40/100\n",
            "15462/15462 [==============================] - 32s 2ms/sample - loss: 2.8059 - acc: 0.4600\n",
            "Epoch 41/100\n",
            "15462/15462 [==============================] - 31s 2ms/sample - loss: 2.7505 - acc: 0.4693\n",
            "Epoch 42/100\n",
            "15462/15462 [==============================] - 32s 2ms/sample - loss: 2.6727 - acc: 0.4915\n",
            "Epoch 43/100\n",
            "15462/15462 [==============================] - 31s 2ms/sample - loss: 2.6160 - acc: 0.5045\n",
            "Epoch 44/100\n",
            "15462/15462 [==============================] - 32s 2ms/sample - loss: 2.5577 - acc: 0.5158\n",
            "Epoch 45/100\n",
            "15462/15462 [==============================] - 31s 2ms/sample - loss: 2.5014 - acc: 0.5282\n",
            "Epoch 46/100\n",
            "15462/15462 [==============================] - 32s 2ms/sample - loss: 2.4398 - acc: 0.5408\n",
            "Epoch 47/100\n",
            "15462/15462 [==============================] - 32s 2ms/sample - loss: 2.3845 - acc: 0.5541\n",
            "Epoch 48/100\n",
            "15462/15462 [==============================] - 32s 2ms/sample - loss: 2.3351 - acc: 0.5627\n",
            "Epoch 49/100\n",
            "15462/15462 [==============================] - 32s 2ms/sample - loss: 2.2885 - acc: 0.5717\n",
            "Epoch 50/100\n",
            "15462/15462 [==============================] - 32s 2ms/sample - loss: 2.2399 - acc: 0.5834\n",
            "Epoch 51/100\n",
            "15462/15462 [==============================] - 32s 2ms/sample - loss: 2.1905 - acc: 0.5959\n",
            "Epoch 52/100\n",
            "15462/15462 [==============================] - 31s 2ms/sample - loss: 2.1443 - acc: 0.6040\n",
            "Epoch 53/100\n",
            "15462/15462 [==============================] - 31s 2ms/sample - loss: 2.1054 - acc: 0.6158\n",
            "Epoch 54/100\n",
            "15462/15462 [==============================] - 32s 2ms/sample - loss: 2.0581 - acc: 0.6244\n",
            "Epoch 55/100\n",
            "15462/15462 [==============================] - 32s 2ms/sample - loss: 2.0167 - acc: 0.6347\n",
            "Epoch 56/100\n",
            "15462/15462 [==============================] - 31s 2ms/sample - loss: 1.9764 - acc: 0.6460\n",
            "Epoch 57/100\n",
            "15462/15462 [==============================] - 31s 2ms/sample - loss: 1.9416 - acc: 0.6494\n",
            "Epoch 58/100\n",
            "15462/15462 [==============================] - 32s 2ms/sample - loss: 1.9083 - acc: 0.6567\n",
            "Epoch 59/100\n",
            "15462/15462 [==============================] - 32s 2ms/sample - loss: 1.8710 - acc: 0.6612\n",
            "Epoch 60/100\n",
            "15462/15462 [==============================] - 32s 2ms/sample - loss: 1.8260 - acc: 0.6766\n",
            "Epoch 61/100\n",
            "15462/15462 [==============================] - 32s 2ms/sample - loss: 1.8165 - acc: 0.6763\n",
            "Epoch 62/100\n",
            "15462/15462 [==============================] - 32s 2ms/sample - loss: 1.7768 - acc: 0.6845\n",
            "Epoch 63/100\n",
            "15462/15462 [==============================] - 32s 2ms/sample - loss: 1.7355 - acc: 0.6956\n",
            "Epoch 64/100\n",
            "15462/15462 [==============================] - 32s 2ms/sample - loss: 1.7156 - acc: 0.6971\n",
            "Epoch 65/100\n",
            "15462/15462 [==============================] - 32s 2ms/sample - loss: 1.6845 - acc: 0.7046\n",
            "Epoch 66/100\n",
            "15462/15462 [==============================] - 31s 2ms/sample - loss: 1.6707 - acc: 0.7035\n",
            "Epoch 67/100\n",
            "15462/15462 [==============================] - 31s 2ms/sample - loss: 1.6443 - acc: 0.7079\n",
            "Epoch 68/100\n",
            "15462/15462 [==============================] - 31s 2ms/sample - loss: 1.6132 - acc: 0.7183\n",
            "Epoch 69/100\n",
            "15462/15462 [==============================] - 31s 2ms/sample - loss: 1.5835 - acc: 0.7209\n",
            "Epoch 70/100\n",
            "15462/15462 [==============================] - 31s 2ms/sample - loss: 1.5610 - acc: 0.7289\n",
            "Epoch 71/100\n",
            "15462/15462 [==============================] - 31s 2ms/sample - loss: 1.5455 - acc: 0.7284\n",
            "Epoch 72/100\n",
            "15462/15462 [==============================] - 31s 2ms/sample - loss: 1.5219 - acc: 0.7373\n",
            "Epoch 73/100\n",
            "15462/15462 [==============================] - 30s 2ms/sample - loss: 1.5009 - acc: 0.7374\n",
            "Epoch 74/100\n",
            "15462/15462 [==============================] - 31s 2ms/sample - loss: 1.4828 - acc: 0.7425\n",
            "Epoch 75/100\n",
            "15462/15462 [==============================] - 30s 2ms/sample - loss: 1.4505 - acc: 0.7489\n",
            "Epoch 76/100\n",
            "15462/15462 [==============================] - 30s 2ms/sample - loss: 1.4333 - acc: 0.7543\n",
            "Epoch 77/100\n",
            "15462/15462 [==============================] - 31s 2ms/sample - loss: 1.4280 - acc: 0.7510\n",
            "Epoch 78/100\n",
            "15462/15462 [==============================] - 30s 2ms/sample - loss: 1.4072 - acc: 0.7533\n",
            "Epoch 79/100\n",
            "15462/15462 [==============================] - 30s 2ms/sample - loss: 1.3951 - acc: 0.7566\n",
            "Epoch 80/100\n",
            "15462/15462 [==============================] - 30s 2ms/sample - loss: 1.3844 - acc: 0.7590\n",
            "Epoch 81/100\n",
            "15462/15462 [==============================] - 30s 2ms/sample - loss: 1.3545 - acc: 0.7648\n",
            "Epoch 82/100\n",
            "15462/15462 [==============================] - 31s 2ms/sample - loss: 1.3409 - acc: 0.7681\n",
            "Epoch 83/100\n",
            "15462/15462 [==============================] - 30s 2ms/sample - loss: 1.3151 - acc: 0.7751\n",
            "Epoch 84/100\n",
            "15462/15462 [==============================] - 30s 2ms/sample - loss: 1.3008 - acc: 0.7730\n",
            "Epoch 85/100\n",
            "15462/15462 [==============================] - 30s 2ms/sample - loss: 1.2945 - acc: 0.7771\n",
            "Epoch 86/100\n",
            "15462/15462 [==============================] - 30s 2ms/sample - loss: 1.2928 - acc: 0.7733\n",
            "Epoch 87/100\n",
            "15462/15462 [==============================] - 30s 2ms/sample - loss: 1.2698 - acc: 0.7771\n",
            "Epoch 88/100\n",
            "15462/15462 [==============================] - 30s 2ms/sample - loss: 1.2589 - acc: 0.7822\n",
            "Epoch 89/100\n",
            "15462/15462 [==============================] - 30s 2ms/sample - loss: 1.2483 - acc: 0.7830\n",
            "Epoch 90/100\n",
            "15462/15462 [==============================] - 30s 2ms/sample - loss: 1.2358 - acc: 0.7869\n",
            "Epoch 91/100\n",
            "15462/15462 [==============================] - 30s 2ms/sample - loss: 1.2184 - acc: 0.7888\n",
            "Epoch 92/100\n",
            "15462/15462 [==============================] - 31s 2ms/sample - loss: 1.2203 - acc: 0.7866\n",
            "Epoch 93/100\n",
            "15462/15462 [==============================] - 31s 2ms/sample - loss: 1.1966 - acc: 0.7936\n",
            "Epoch 94/100\n",
            "15462/15462 [==============================] - 31s 2ms/sample - loss: 1.1806 - acc: 0.7954\n",
            "Epoch 95/100\n",
            "15462/15462 [==============================] - 31s 2ms/sample - loss: 1.1792 - acc: 0.7951\n",
            "Epoch 96/100\n",
            "15462/15462 [==============================] - 31s 2ms/sample - loss: 1.1728 - acc: 0.7967\n",
            "Epoch 97/100\n",
            "15462/15462 [==============================] - 32s 2ms/sample - loss: 1.1611 - acc: 0.7965\n",
            "Epoch 98/100\n",
            "15462/15462 [==============================] - 31s 2ms/sample - loss: 1.1637 - acc: 0.7949\n",
            "Epoch 99/100\n",
            "15462/15462 [==============================] - 31s 2ms/sample - loss: 1.1619 - acc: 0.7962\n",
            "Epoch 100/100\n",
            "15462/15462 [==============================] - 31s 2ms/sample - loss: 1.1323 - acc: 0.8011\n"
          ],
          "name": "stdout"
        }
      ]
    },
    {
      "cell_type": "code",
      "metadata": {
        "id": "1fXTEO3GJ282",
        "colab_type": "code",
        "colab": {
          "base_uri": "https://localhost:8080/",
          "height": 545
        },
        "outputId": "9787904f-5078-410b-f47f-019f599ba616"
      },
      "source": [
        "import matplotlib.pyplot as plt\n",
        "acc = history.history['acc']\n",
        "loss = history.history['loss']\n",
        "\n",
        "epochs = range(len(acc))\n",
        "\n",
        "plt.plot(epochs, acc, 'b', label='Training accuracy')\n",
        "plt.title('Training accuracy')\n",
        "\n",
        "plt.figure()\n",
        "\n",
        "plt.plot(epochs, loss, 'b', label='Training Loss')\n",
        "plt.title('Training loss')\n",
        "plt.legend()\n",
        "\n",
        "plt.show()"
      ],
      "execution_count": 6,
      "outputs": [
        {
          "output_type": "display_data",
          "data": {
            "image/png": "[encoded data removed]",
            "text/plain": [
              "<Figure size 432x288 with 1 Axes>"
            ]
          },
          "metadata": {
            "tags": []
          }
        },
        {
          "output_type": "display_data",
          "data": {
            "image/png": "[encoded data removed]",
            "text/plain": [
              "<Figure size 432x288 with 1 Axes>"
            ]
          },
          "metadata": {
            "tags": []
          }
        }
      ]
    },
    {
      "cell_type": "code",
      "metadata": {
        "id": "6Vc6PHgxa6Hm",
        "colab_type": "code",
        "colab": {
          "base_uri": "https://localhost:8080/",
          "height": 54
        },
        "outputId": "c9eb832e-a9f0-4479-88b8-312cef1ab336"
      },
      "source": [
        "seed_text = \"Help me Obi Wan Kenobi, you're my only hope\"\n",
        "next_words = 100\n",
        "  \n",
        "for _ in range(next_words):\n",
        "\ttoken_list = tokenizer.texts_to_sequences([seed_text])[0]\n",
        "\ttoken_list = pad_sequences([token_list], maxlen=max_sequence_len-1, padding='pre')\n",
        "\tpredicted = model.predict_classes(token_list, verbose=0)\n",
        "\toutput_word = \"\"\n",
        "\tfor word, index in tokenizer.word_index.items():\n",
        "\t\tif index == predicted:\n",
        "\t\t\toutput_word = word\n",
        "\t\t\tbreak\n",
        "\tseed_text += \" \" + output_word\n",
        "print(seed_text)"
      ],
      "execution_count": 7,
      "outputs": [
        {
          "output_type": "stream",
          "text": [
            "Help me Obi Wan Kenobi, you're my only hope can ruminate i strive to life men go new rage bettering new wide near ' lived doth swear free still bright in you when behold thine skill muse repair do mine eyes thine bright do forsworn blind wrong show fled men alone another substance another substance ' of thee need doth behold hold their ' belongs in kings sort sort give days give decay decay light ' alone forbid thee go forbid men ill check ill rage bettering right life new hour true worth away me bow strong part ' doth latch afloat ride woe might ride stay a part\n"
          ],
          "name": "stdout"
        }
      ]
    }
  ]
}